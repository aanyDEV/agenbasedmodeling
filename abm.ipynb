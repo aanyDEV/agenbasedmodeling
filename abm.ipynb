{
 "cells": [
  {
   "cell_type": "code",
   "execution_count": null,
   "id": "7040a583",
   "metadata": {},
   "outputs": [],
   "source": [
    "pip install mesa pandas matplotlib numpy"
   ]
  },
  {
   "cell_type": "code",
   "execution_count": null,
   "id": "00b7b652",
   "metadata": {},
   "outputs": [],
   "source": [
    "#Library yang digunakan\n",
    "import pandas as pd\n",
    "from mesa import Agent, Model\n",
    "from mesa.time import RandomActivation\n",
    "import matplotlib.pyplot as plt\n",
    "import os\n",
    "import numpy as np"
   ]
  },
  {
   "cell_type": "code",
   "execution_count": null,
   "id": "854efa3d",
   "metadata": {},
   "outputs": [],
   "source": [
    "#Membuat Data\n",
    "jumData = 1000\n",
    "np.random.seed(42) \n",
    "data = {\n",
    "    'Agen_ID': range(1, jumData + 1), #Agen_ID sejumlah nilai yang sudah diinputkan\n",
    "    'Umur': np.random.randint(20, 70, size=jumData),  # Umur antara 20 dan 69 tahun\n",
    "    'Pendapatan': np.random.randint(1000000, 30000000, size=jumData)  # Pendapatan antara 1 juta dan 30 juta\n",
    "}\n",
    "\n",
    "df = pd.DataFrame(data)\n",
    "dir=os.getcwd()\n",
    "nf=\"mydata.xlsx\"\n",
    "file = os.path.join(dir, nf)\n",
    "df.to_excel(file, index=False)\n",
    "print(f\"\\nFile {nf} dengan jumlah data {jumData} telah dibuat\\n\")"
   ]
  },
  {
   "cell_type": "code",
   "execution_count": null,
   "id": "4f4ff4c5",
   "metadata": {},
   "outputs": [],
   "source": [
    "#Proses pembuatan grafik berdasarkan data yang telah digenerate\n",
    "step=100\n",
    "\n",
    "class AgentData:\n",
    "    def __init__(self, agenID, umur, pendapatan):\n",
    "        self.agenID = agenID\n",
    "        self.umur = umur\n",
    "        self.pendapatan = pendapatan\n",
    "\n",
    "class MyAgent(Agent):\n",
    "    def __init__(self, idUnik, model, data):\n",
    "        super().__init__(idUnik, model)\n",
    "        self.data = data\n",
    "\n",
    "    @property\n",
    "    def umur(self):\n",
    "        return self.data.umur\n",
    "\n",
    "    @property\n",
    "    def pendapatan(self):\n",
    "        return self.data.pendapatan\n",
    "\n",
    "class MyModel(Model):\n",
    "    def __init__(self, agen_Data):\n",
    "        super().__init__()\n",
    "        self.schedule = RandomActivation(self)\n",
    "        self.steps = 0\n",
    "\n",
    "        for dataRow in agen_Data:\n",
    "            agent = MyAgent(dataRow.agenID, self, dataRow)\n",
    "            self.schedule.add(agent)\n",
    "\n",
    "    def step(self):\n",
    "        self.schedule.step()\n",
    "        self.steps += 1\n",
    "\n",
    "    def __str__(self):\n",
    "        return f\"Dengan {len(self.schedule.agents)} agen dan {self.steps} langkah\"\n",
    "\n",
    "agenDataDF = pd.read_excel(file)\n",
    "agenData = [AgentData(row['Agen_ID'], row['Umur'], row['Pendapatan']) for idx, row in agenDataDF.iterrows()]\n",
    "model = MyModel(agenData)\n",
    "for i in range(step):\n",
    "    model.step()\n",
    "\n",
    "agenUmur = [agent.umur for agent in model.schedule.agents]\n",
    "agenPendapatan = [agent.pendapatan for agent in model.schedule.agents]\n",
    "plt.figure(figsize=(8, 6))\n",
    "plt.scatter(agenUmur, agenPendapatan, alpha=0.5, color='blue')\n",
    "plt.xlabel('Umur')\n",
    "plt.ylabel('Pendapatan')\n",
    "plt.title(f'Agent Based Modeling\\nUmur vs Pendapatan\\n{model}')\n",
    "plt.grid(True)\n",
    "plt.show()"
   ]
  }
 ],
 "metadata": {
  "kernelspec": {
   "display_name": "Python 3 (ipykernel)",
   "language": "python",
   "name": "python3"
  },
  "language_info": {
   "codemirror_mode": {
    "name": "ipython",
    "version": 3
   },
   "file_extension": ".py",
   "mimetype": "text/x-python",
   "name": "python",
   "nbconvert_exporter": "python",
   "pygments_lexer": "ipython3",
   "version": "3.11.5"
  }
 },
 "nbformat": 4,
 "nbformat_minor": 5
}
